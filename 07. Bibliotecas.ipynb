{
  "cells": [
    {
      "attachments": {},
      "cell_type": "markdown",
      "metadata": {},
      "source": [
        "# Bibliotecas Externas\n",
        "\n",
        "En este JNB se revisará el tema de Bibliotecas Externas."
      ]
    },
    {
      "cell_type": "code",
      "execution_count": 1,
      "metadata": {
        "id": "O8NoTzxjs2wK",
        "outputId": "fa4bc249-a4fa-48a6-9dc6-7733646ed223"
      },
      "outputs": [
        {
          "name": "stdout",
          "output_type": "stream",
          "text": [
            "It's math! It has type <class 'module'>\n"
          ]
        }
      ],
      "source": [
        "import math\n",
        "\n",
        "print(\"It's math! It has type {}\".format(type(math)))"
      ]
    },
    {
      "cell_type": "code",
      "execution_count": 2,
      "metadata": {},
      "outputs": [
        {
          "name": "stdout",
          "output_type": "stream",
          "text": [
            "['__doc__', '__file__', '__loader__', '__name__', '__package__', '__spec__', 'acos', 'acosh', 'asin', 'asinh', 'atan', 'atan2', 'atanh', 'cbrt', 'ceil', 'comb', 'copysign', 'cos', 'cosh', 'degrees', 'dist', 'e', 'erf', 'erfc', 'exp', 'exp2', 'expm1', 'fabs', 'factorial', 'floor', 'fmod', 'frexp', 'fsum', 'gamma', 'gcd', 'hypot', 'inf', 'isclose', 'isfinite', 'isinf', 'isnan', 'isqrt', 'lcm', 'ldexp', 'lgamma', 'log', 'log10', 'log1p', 'log2', 'modf', 'nan', 'nextafter', 'perm', 'pi', 'pow', 'prod', 'radians', 'remainder', 'sin', 'sinh', 'sqrt', 'sumprod', 'tan', 'tanh', 'tau', 'trunc', 'ulp']\n"
          ]
        }
      ],
      "source": [
        "print(dir(math))"
      ]
    },
    {
      "cell_type": "code",
      "execution_count": 3,
      "metadata": {},
      "outputs": [
        {
          "data": {
            "text/plain": [
              "3.141592653589793"
            ]
          },
          "execution_count": 3,
          "metadata": {},
          "output_type": "execute_result"
        }
      ],
      "source": [
        "math.pi"
      ]
    },
    {
      "cell_type": "code",
      "execution_count": 4,
      "metadata": {},
      "outputs": [
        {
          "data": {
            "text/plain": [
              "2.718281828459045"
            ]
          },
          "execution_count": 4,
          "metadata": {},
          "output_type": "execute_result"
        }
      ],
      "source": [
        "math.e"
      ]
    },
    {
      "cell_type": "code",
      "execution_count": 5,
      "metadata": {},
      "outputs": [
        {
          "data": {
            "text/plain": [
              "5.0"
            ]
          },
          "execution_count": 5,
          "metadata": {},
          "output_type": "execute_result"
        }
      ],
      "source": [
        "math.log(32, 2)"
      ]
    },
    {
      "cell_type": "code",
      "execution_count": 6,
      "metadata": {},
      "outputs": [
        {
          "name": "stdout",
          "output_type": "stream",
          "text": [
            "Help on built-in function log in module math:\n",
            "\n",
            "log(...)\n",
            "    log(x, [base=math.e])\n",
            "    Return the logarithm of x to the given base.\n",
            "\n",
            "    If the base is not specified, returns the natural logarithm (base e) of x.\n",
            "\n"
          ]
        }
      ],
      "source": [
        "help(math.log)"
      ]
    },
    {
      "cell_type": "code",
      "execution_count": 7,
      "metadata": {},
      "outputs": [
        {
          "data": {
            "text/plain": [
              "2.0"
            ]
          },
          "execution_count": 7,
          "metadata": {},
          "output_type": "execute_result"
        }
      ],
      "source": [
        "math.log(100,10)"
      ]
    },
    {
      "cell_type": "code",
      "execution_count": 8,
      "metadata": {},
      "outputs": [
        {
          "data": {
            "text/plain": [
              "4.605170185988092"
            ]
          },
          "execution_count": 8,
          "metadata": {},
          "output_type": "execute_result"
        }
      ],
      "source": [
        "math.log(100)"
      ]
    },
    {
      "cell_type": "code",
      "execution_count": 9,
      "metadata": {},
      "outputs": [
        {
          "name": "stdout",
          "output_type": "stream",
          "text": [
            "Help on module math:\n",
            "\n",
            "NAME\n",
            "    math\n",
            "\n",
            "MODULE REFERENCE\n",
            "    https://docs.python.org/3.12/library/math.html\n",
            "\n",
            "    The following documentation is automatically generated from the Python\n",
            "    source files.  It may be incomplete, incorrect or include features that\n",
            "    are considered implementation detail and may vary between Python\n",
            "    implementations.  When in doubt, consult the module reference at the\n",
            "    location listed above.\n",
            "\n",
            "DESCRIPTION\n",
            "    This module provides access to the mathematical functions\n",
            "    defined by the C standard.\n",
            "\n",
            "FUNCTIONS\n",
            "    acos(x, /)\n",
            "        Return the arc cosine (measured in radians) of x.\n",
            "\n",
            "        The result is between 0 and pi.\n",
            "\n",
            "    acosh(x, /)\n",
            "        Return the inverse hyperbolic cosine of x.\n",
            "\n",
            "    asin(x, /)\n",
            "        Return the arc sine (measured in radians) of x.\n",
            "\n",
            "        The result is between -pi/2 and pi/2.\n",
            "\n",
            "    asinh(x, /)\n",
            "        Return the inverse hyperbolic sine of x.\n",
            "\n",
            "    atan(x, /)\n",
            "        Return the arc tangent (measured in radians) of x.\n",
            "\n",
            "        The result is between -pi/2 and pi/2.\n",
            "\n",
            "    atan2(y, x, /)\n",
            "        Return the arc tangent (measured in radians) of y/x.\n",
            "\n",
            "        Unlike atan(y/x), the signs of both x and y are considered.\n",
            "\n",
            "    atanh(x, /)\n",
            "        Return the inverse hyperbolic tangent of x.\n",
            "\n",
            "    cbrt(x, /)\n",
            "        Return the cube root of x.\n",
            "\n",
            "    ceil(x, /)\n",
            "        Return the ceiling of x as an Integral.\n",
            "\n",
            "        This is the smallest integer >= x.\n",
            "\n",
            "    comb(n, k, /)\n",
            "        Number of ways to choose k items from n items without repetition and without order.\n",
            "\n",
            "        Evaluates to n! / (k! * (n - k)!) when k <= n and evaluates\n",
            "        to zero when k > n.\n",
            "\n",
            "        Also called the binomial coefficient because it is equivalent\n",
            "        to the coefficient of k-th term in polynomial expansion of the\n",
            "        expression (1 + x)**n.\n",
            "\n",
            "        Raises TypeError if either of the arguments are not integers.\n",
            "        Raises ValueError if either of the arguments are negative.\n",
            "\n",
            "    copysign(x, y, /)\n",
            "        Return a float with the magnitude (absolute value) of x but the sign of y.\n",
            "\n",
            "        On platforms that support signed zeros, copysign(1.0, -0.0)\n",
            "        returns -1.0.\n",
            "\n",
            "    cos(x, /)\n",
            "        Return the cosine of x (measured in radians).\n",
            "\n",
            "    cosh(x, /)\n",
            "        Return the hyperbolic cosine of x.\n",
            "\n",
            "    degrees(x, /)\n",
            "        Convert angle x from radians to degrees.\n",
            "\n",
            "    dist(p, q, /)\n",
            "        Return the Euclidean distance between two points p and q.\n",
            "\n",
            "        The points should be specified as sequences (or iterables) of\n",
            "        coordinates.  Both inputs must have the same dimension.\n",
            "\n",
            "        Roughly equivalent to:\n",
            "            sqrt(sum((px - qx) ** 2.0 for px, qx in zip(p, q)))\n",
            "\n",
            "    erf(x, /)\n",
            "        Error function at x.\n",
            "\n",
            "    erfc(x, /)\n",
            "        Complementary error function at x.\n",
            "\n",
            "    exp(x, /)\n",
            "        Return e raised to the power of x.\n",
            "\n",
            "    exp2(x, /)\n",
            "        Return 2 raised to the power of x.\n",
            "\n",
            "    expm1(x, /)\n",
            "        Return exp(x)-1.\n",
            "\n",
            "        This function avoids the loss of precision involved in the direct evaluation of exp(x)-1 for small x.\n",
            "\n",
            "    fabs(x, /)\n",
            "        Return the absolute value of the float x.\n",
            "\n",
            "    factorial(n, /)\n",
            "        Find n!.\n",
            "\n",
            "        Raise a ValueError if x is negative or non-integral.\n",
            "\n",
            "    floor(x, /)\n",
            "        Return the floor of x as an Integral.\n",
            "\n",
            "        This is the largest integer <= x.\n",
            "\n",
            "    fmod(x, y, /)\n",
            "        Return fmod(x, y), according to platform C.\n",
            "\n",
            "        x % y may differ.\n",
            "\n",
            "    frexp(x, /)\n",
            "        Return the mantissa and exponent of x, as pair (m, e).\n",
            "\n",
            "        m is a float and e is an int, such that x = m * 2.**e.\n",
            "        If x is 0, m and e are both 0.  Else 0.5 <= abs(m) < 1.0.\n",
            "\n",
            "    fsum(seq, /)\n",
            "        Return an accurate floating point sum of values in the iterable seq.\n",
            "\n",
            "        Assumes IEEE-754 floating point arithmetic.\n",
            "\n",
            "    gamma(x, /)\n",
            "        Gamma function at x.\n",
            "\n",
            "    gcd(*integers)\n",
            "        Greatest Common Divisor.\n",
            "\n",
            "    hypot(...)\n",
            "        hypot(*coordinates) -> value\n",
            "\n",
            "        Multidimensional Euclidean distance from the origin to a point.\n",
            "\n",
            "        Roughly equivalent to:\n",
            "            sqrt(sum(x**2 for x in coordinates))\n",
            "\n",
            "        For a two dimensional point (x, y), gives the hypotenuse\n",
            "        using the Pythagorean theorem:  sqrt(x*x + y*y).\n",
            "\n",
            "        For example, the hypotenuse of a 3/4/5 right triangle is:\n",
            "\n",
            "            >>> hypot(3.0, 4.0)\n",
            "            5.0\n",
            "\n",
            "    isclose(a, b, *, rel_tol=1e-09, abs_tol=0.0)\n",
            "        Determine whether two floating point numbers are close in value.\n",
            "\n",
            "          rel_tol\n",
            "            maximum difference for being considered \"close\", relative to the\n",
            "            magnitude of the input values\n",
            "          abs_tol\n",
            "            maximum difference for being considered \"close\", regardless of the\n",
            "            magnitude of the input values\n",
            "\n",
            "        Return True if a is close in value to b, and False otherwise.\n",
            "\n",
            "        For the values to be considered close, the difference between them\n",
            "        must be smaller than at least one of the tolerances.\n",
            "\n",
            "        -inf, inf and NaN behave similarly to the IEEE 754 Standard.  That\n",
            "        is, NaN is not close to anything, even itself.  inf and -inf are\n",
            "        only close to themselves.\n",
            "\n",
            "    isfinite(x, /)\n",
            "        Return True if x is neither an infinity nor a NaN, and False otherwise.\n",
            "\n",
            "    isinf(x, /)\n",
            "        Return True if x is a positive or negative infinity, and False otherwise.\n",
            "\n",
            "    isnan(x, /)\n",
            "        Return True if x is a NaN (not a number), and False otherwise.\n",
            "\n",
            "    isqrt(n, /)\n",
            "        Return the integer part of the square root of the input.\n",
            "\n",
            "    lcm(*integers)\n",
            "        Least Common Multiple.\n",
            "\n",
            "    ldexp(x, i, /)\n",
            "        Return x * (2**i).\n",
            "\n",
            "        This is essentially the inverse of frexp().\n",
            "\n",
            "    lgamma(x, /)\n",
            "        Natural logarithm of absolute value of Gamma function at x.\n",
            "\n",
            "    log(...)\n",
            "        log(x, [base=math.e])\n",
            "        Return the logarithm of x to the given base.\n",
            "\n",
            "        If the base is not specified, returns the natural logarithm (base e) of x.\n",
            "\n",
            "    log10(x, /)\n",
            "        Return the base 10 logarithm of x.\n",
            "\n",
            "    log1p(x, /)\n",
            "        Return the natural logarithm of 1+x (base e).\n",
            "\n",
            "        The result is computed in a way which is accurate for x near zero.\n",
            "\n",
            "    log2(x, /)\n",
            "        Return the base 2 logarithm of x.\n",
            "\n",
            "    modf(x, /)\n",
            "        Return the fractional and integer parts of x.\n",
            "\n",
            "        Both results carry the sign of x and are floats.\n",
            "\n",
            "    nextafter(x, y, /, *, steps=None)\n",
            "        Return the floating-point value the given number of steps after x towards y.\n",
            "\n",
            "        If steps is not specified or is None, it defaults to 1.\n",
            "\n",
            "        Raises a TypeError, if x or y is not a double, or if steps is not an integer.\n",
            "        Raises ValueError if steps is negative.\n",
            "\n",
            "    perm(n, k=None, /)\n",
            "        Number of ways to choose k items from n items without repetition and with order.\n",
            "\n",
            "        Evaluates to n! / (n - k)! when k <= n and evaluates\n",
            "        to zero when k > n.\n",
            "\n",
            "        If k is not specified or is None, then k defaults to n\n",
            "        and the function returns n!.\n",
            "\n",
            "        Raises TypeError if either of the arguments are not integers.\n",
            "        Raises ValueError if either of the arguments are negative.\n",
            "\n",
            "    pow(x, y, /)\n",
            "        Return x**y (x to the power of y).\n",
            "\n",
            "    prod(iterable, /, *, start=1)\n",
            "        Calculate the product of all the elements in the input iterable.\n",
            "\n",
            "        The default start value for the product is 1.\n",
            "\n",
            "        When the iterable is empty, return the start value.  This function is\n",
            "        intended specifically for use with numeric values and may reject\n",
            "        non-numeric types.\n",
            "\n",
            "    radians(x, /)\n",
            "        Convert angle x from degrees to radians.\n",
            "\n",
            "    remainder(x, y, /)\n",
            "        Difference between x and the closest integer multiple of y.\n",
            "\n",
            "        Return x - n*y where n*y is the closest integer multiple of y.\n",
            "        In the case where x is exactly halfway between two multiples of\n",
            "        y, the nearest even value of n is used. The result is always exact.\n",
            "\n",
            "    sin(x, /)\n",
            "        Return the sine of x (measured in radians).\n",
            "\n",
            "    sinh(x, /)\n",
            "        Return the hyperbolic sine of x.\n",
            "\n",
            "    sqrt(x, /)\n",
            "        Return the square root of x.\n",
            "\n",
            "    sumprod(p, q, /)\n",
            "        Return the sum of products of values from two iterables p and q.\n",
            "\n",
            "        Roughly equivalent to:\n",
            "\n",
            "            sum(itertools.starmap(operator.mul, zip(p, q, strict=True)))\n",
            "\n",
            "        For float and mixed int/float inputs, the intermediate products\n",
            "        and sums are computed with extended precision.\n",
            "\n",
            "    tan(x, /)\n",
            "        Return the tangent of x (measured in radians).\n",
            "\n",
            "    tanh(x, /)\n",
            "        Return the hyperbolic tangent of x.\n",
            "\n",
            "    trunc(x, /)\n",
            "        Truncates the Real x to the nearest Integral toward 0.\n",
            "\n",
            "        Uses the __trunc__ magic method.\n",
            "\n",
            "    ulp(x, /)\n",
            "        Return the value of the least significant bit of the float x.\n",
            "\n",
            "DATA\n",
            "    e = 2.718281828459045\n",
            "    inf = inf\n",
            "    nan = nan\n",
            "    pi = 3.141592653589793\n",
            "    tau = 6.283185307179586\n",
            "\n",
            "FILE\n",
            "    /home/codespace/.python/current/lib/python3.12/lib-dynload/math.cpython-312-x86_64-linux-gnu.so\n",
            "\n",
            "\n"
          ]
        }
      ],
      "source": [
        "help(math)"
      ]
    },
    {
      "cell_type": "code",
      "execution_count": 10,
      "metadata": {},
      "outputs": [
        {
          "data": {
            "text/plain": [
              "3.141592653589793"
            ]
          },
          "execution_count": 10,
          "metadata": {},
          "output_type": "execute_result"
        }
      ],
      "source": [
        "import math as mt\n",
        "mt.pi"
      ]
    },
    {
      "cell_type": "code",
      "execution_count": 11,
      "metadata": {},
      "outputs": [
        {
          "data": {
            "text/plain": [
              "2.718281828459045"
            ]
          },
          "execution_count": 11,
          "metadata": {},
          "output_type": "execute_result"
        }
      ],
      "source": [
        "mt.exp(1)"
      ]
    },
    {
      "cell_type": "code",
      "execution_count": 12,
      "metadata": {},
      "outputs": [
        {
          "name": "stdout",
          "output_type": "stream",
          "text": [
            "3.141592653589793 5.0\n"
          ]
        }
      ],
      "source": [
        "from math import *\n",
        "print(pi, log(32, 2))"
      ]
    },
    {
      "cell_type": "code",
      "execution_count": 13,
      "metadata": {},
      "outputs": [
        {
          "ename": "TypeError",
          "evalue": "return arrays must be of ArrayType",
          "output_type": "error",
          "traceback": [
            "\u001b[0;31m---------------------------------------------------------------------------\u001b[0m",
            "\u001b[0;31mTypeError\u001b[0m                                 Traceback (most recent call last)",
            "Cell \u001b[0;32mIn[13], line 3\u001b[0m\n\u001b[1;32m      1\u001b[0m \u001b[38;5;28;01mfrom\u001b[39;00m \u001b[38;5;21;01mmath\u001b[39;00m \u001b[38;5;28;01mimport\u001b[39;00m \u001b[38;5;241m*\u001b[39m\n\u001b[1;32m      2\u001b[0m \u001b[38;5;28;01mfrom\u001b[39;00m \u001b[38;5;21;01mnumpy\u001b[39;00m \u001b[38;5;28;01mimport\u001b[39;00m \u001b[38;5;241m*\u001b[39m\n\u001b[0;32m----> 3\u001b[0m \u001b[38;5;28mprint\u001b[39m(pi, \u001b[43mlog\u001b[49m\u001b[43m(\u001b[49m\u001b[38;5;241;43m32\u001b[39;49m\u001b[43m,\u001b[49m\u001b[43m \u001b[49m\u001b[38;5;241;43m2\u001b[39;49m\u001b[43m)\u001b[49m)\n",
            "\u001b[0;31mTypeError\u001b[0m: return arrays must be of ArrayType"
          ]
        }
      ],
      "source": [
        "from math import *\n",
        "from numpy import *\n",
        "print(pi, log(32, 2))"
      ]
    },
    {
      "cell_type": "code",
      "execution_count": 50,
      "metadata": {},
      "outputs": [
        {
          "data": {
            "text/plain": [
              "5.0"
            ]
          },
          "execution_count": 50,
          "metadata": {},
          "output_type": "execute_result"
        }
      ],
      "source": [
        "from math import log, pi\n",
        "from numpy import asarray\n",
        "\n",
        "log(32, 2)  # no need to reference the module"
      ]
    },
    {
      "cell_type": "code",
      "execution_count": 14,
      "metadata": {},
      "outputs": [
        {
          "name": "stdout",
          "output_type": "stream",
          "text": [
            "numpy.random is a <class 'module'>\n",
            "it contains names such as... ['set_bit_generator', 'set_state', 'shuffle', 'standard_cauchy', 'standard_exponential', 'standard_gamma', 'standard_normal', 'standard_t', 'test', 'triangular', 'uniform', 'vonmises', 'wald', 'weibull', 'zipf']\n"
          ]
        }
      ],
      "source": [
        "import numpy\n",
        "print(\"numpy.random is a\", type(numpy.random))\n",
        "print(\"it contains names such as...\",\n",
        "      dir(numpy.random)[-15:]\n",
        "     )"
      ]
    },
    {
      "cell_type": "code",
      "execution_count": 15,
      "metadata": {},
      "outputs": [
        {
          "data": {
            "text/plain": [
              "array([3, 2, 3, 2, 4, 2, 2, 4, 4, 4])"
            ]
          },
          "execution_count": 15,
          "metadata": {},
          "output_type": "execute_result"
        }
      ],
      "source": [
        "# Roll 10 dice\n",
        "rolls = numpy.random.randint(low=1, high=6, size=10)\n",
        "rolls"
      ]
    },
    {
      "cell_type": "code",
      "execution_count": 16,
      "metadata": {},
      "outputs": [
        {
          "data": {
            "text/plain": [
              "numpy.ndarray"
            ]
          },
          "execution_count": 16,
          "metadata": {},
          "output_type": "execute_result"
        }
      ],
      "source": [
        "type(rolls)"
      ]
    },
    {
      "cell_type": "code",
      "execution_count": 17,
      "metadata": {},
      "outputs": [
        {
          "name": "stdout",
          "output_type": "stream",
          "text": [
            "['T', '__abs__', '__add__', '__and__', '__array__', '__array_finalize__', '__array_function__', '__array_interface__', '__array_namespace__', '__array_priority__', '__array_struct__', '__array_ufunc__', '__array_wrap__', '__bool__', '__buffer__', '__class__', '__class_getitem__', '__complex__', '__contains__', '__copy__', '__deepcopy__', '__delattr__', '__delitem__', '__dir__', '__divmod__', '__dlpack__', '__dlpack_device__', '__doc__', '__eq__', '__float__', '__floordiv__', '__format__', '__ge__', '__getattribute__', '__getitem__', '__getstate__', '__gt__', '__hash__', '__iadd__', '__iand__', '__ifloordiv__', '__ilshift__', '__imatmul__', '__imod__', '__imul__', '__index__', '__init__', '__init_subclass__', '__int__', '__invert__', '__ior__', '__ipow__', '__irshift__', '__isub__', '__iter__', '__itruediv__', '__ixor__', '__le__', '__len__', '__lshift__', '__lt__', '__matmul__', '__mod__', '__mul__', '__ne__', '__neg__', '__new__', '__or__', '__pos__', '__pow__', '__radd__', '__rand__', '__rdivmod__', '__reduce__', '__reduce_ex__', '__repr__', '__rfloordiv__', '__rlshift__', '__rmatmul__', '__rmod__', '__rmul__', '__ror__', '__rpow__', '__rrshift__', '__rshift__', '__rsub__', '__rtruediv__', '__rxor__', '__setattr__', '__setitem__', '__setstate__', '__sizeof__', '__str__', '__sub__', '__subclasshook__', '__truediv__', '__xor__', 'all', 'any', 'argmax', 'argmin', 'argpartition', 'argsort', 'astype', 'base', 'byteswap', 'choose', 'clip', 'compress', 'conj', 'conjugate', 'copy', 'ctypes', 'cumprod', 'cumsum', 'data', 'device', 'diagonal', 'dot', 'dtype', 'dump', 'dumps', 'fill', 'flags', 'flat', 'flatten', 'getfield', 'imag', 'item', 'itemset', 'itemsize', 'mT', 'max', 'mean', 'min', 'nbytes', 'ndim', 'newbyteorder', 'nonzero', 'partition', 'prod', 'ptp', 'put', 'ravel', 'real', 'repeat', 'reshape', 'resize', 'round', 'searchsorted', 'setfield', 'setflags', 'shape', 'size', 'sort', 'squeeze', 'std', 'strides', 'sum', 'swapaxes', 'take', 'to_device', 'tobytes', 'tofile', 'tolist', 'tostring', 'trace', 'transpose', 'var', 'view']\n"
          ]
        }
      ],
      "source": [
        "print(dir(rolls))"
      ]
    },
    {
      "cell_type": "code",
      "execution_count": 19,
      "metadata": {},
      "outputs": [
        {
          "data": {
            "text/plain": [
              "3.0"
            ]
          },
          "execution_count": 19,
          "metadata": {},
          "output_type": "execute_result"
        }
      ],
      "source": [
        "float(rolls.mean())"
      ]
    },
    {
      "cell_type": "code",
      "execution_count": 20,
      "metadata": {},
      "outputs": [
        {
          "data": {
            "text/plain": [
              "[3, 2, 3, 2, 4, 2, 2, 4, 4, 4]"
            ]
          },
          "execution_count": 20,
          "metadata": {},
          "output_type": "execute_result"
        }
      ],
      "source": [
        "# Or maybe I just want to turn the array into a list, in which case I can use \"tolist\"\n",
        "rolls.tolist()"
      ]
    },
    {
      "cell_type": "code",
      "execution_count": 21,
      "metadata": {},
      "outputs": [
        {
          "name": "stdout",
          "output_type": "stream",
          "text": [
            "Help on built-in function tolist:\n",
            "\n",
            "tolist(...) method of numpy.ndarray instance\n",
            "    a.tolist()\n",
            "\n",
            "    Return the array as an ``a.ndim``-levels deep nested list of Python scalars.\n",
            "\n",
            "    Return a copy of the array data as a (nested) Python list.\n",
            "    Data items are converted to the nearest compatible builtin Python type, via\n",
            "    the `~numpy.ndarray.item` function.\n",
            "\n",
            "    If ``a.ndim`` is 0, then since the depth of the nested list is 0, it will\n",
            "    not be a list at all, but a simple Python scalar.\n",
            "\n",
            "    Parameters\n",
            "    ----------\n",
            "    none\n",
            "\n",
            "    Returns\n",
            "    -------\n",
            "    y : object, or list of object, or list of list of object, or ...\n",
            "        The possibly nested list of array elements.\n",
            "\n",
            "    Notes\n",
            "    -----\n",
            "    The array may be recreated via ``a = np.array(a.tolist())``, although this\n",
            "    may sometimes lose precision.\n",
            "\n",
            "    Examples\n",
            "    --------\n",
            "    For a 1D array, ``a.tolist()`` is almost the same as ``list(a)``,\n",
            "    except that ``tolist`` changes numpy scalars to Python scalars:\n",
            "\n",
            "    >>> import numpy as np\n",
            "    >>> a = np.uint32([1, 2])\n",
            "    >>> a_list = list(a)\n",
            "    >>> a_list\n",
            "    [1, 2]\n",
            "    >>> type(a_list[0])\n",
            "    <class 'numpy.uint32'>\n",
            "    >>> a_tolist = a.tolist()\n",
            "    >>> a_tolist\n",
            "    [1, 2]\n",
            "    >>> type(a_tolist[0])\n",
            "    <class 'int'>\n",
            "\n",
            "    Additionally, for a 2D array, ``tolist`` applies recursively:\n",
            "\n",
            "    >>> a = np.array([[1, 2], [3, 4]])\n",
            "    >>> list(a)\n",
            "    [array([1, 2]), array([3, 4])]\n",
            "    >>> a.tolist()\n",
            "    [[1, 2], [3, 4]]\n",
            "\n",
            "    The base case for this recursion is a 0D array:\n",
            "\n",
            "    >>> a = np.array(1)\n",
            "    >>> list(a)\n",
            "    Traceback (most recent call last):\n",
            "      ...\n",
            "    TypeError: iteration over a 0-d array\n",
            "    >>> a.tolist()\n",
            "    1\n",
            "\n"
          ]
        }
      ],
      "source": [
        "help(rolls.tolist)"
      ]
    },
    {
      "cell_type": "code",
      "execution_count": 22,
      "metadata": {},
      "outputs": [
        {
          "ename": "TypeError",
          "evalue": "can only concatenate list (not \"int\") to list",
          "output_type": "error",
          "traceback": [
            "\u001b[0;31m---------------------------------------------------------------------------\u001b[0m",
            "\u001b[0;31mTypeError\u001b[0m                                 Traceback (most recent call last)",
            "Cell \u001b[0;32mIn[22], line 1\u001b[0m\n\u001b[0;32m----> 1\u001b[0m \u001b[43m[\u001b[49m\u001b[38;5;241;43m3\u001b[39;49m\u001b[43m,\u001b[49m\u001b[43m \u001b[49m\u001b[38;5;241;43m4\u001b[39;49m\u001b[43m,\u001b[49m\u001b[43m \u001b[49m\u001b[38;5;241;43m1\u001b[39;49m\u001b[43m,\u001b[49m\u001b[43m \u001b[49m\u001b[38;5;241;43m2\u001b[39;49m\u001b[43m,\u001b[49m\u001b[43m \u001b[49m\u001b[38;5;241;43m2\u001b[39;49m\u001b[43m,\u001b[49m\u001b[43m \u001b[49m\u001b[38;5;241;43m1\u001b[39;49m\u001b[43m]\u001b[49m\u001b[43m \u001b[49m\u001b[38;5;241;43m+\u001b[39;49m\u001b[43m \u001b[49m\u001b[38;5;241;43m10\u001b[39;49m\n",
            "\u001b[0;31mTypeError\u001b[0m: can only concatenate list (not \"int\") to list"
          ]
        }
      ],
      "source": [
        "[3, 4, 1, 2, 2, 1] + 10"
      ]
    },
    {
      "cell_type": "code",
      "execution_count": 25,
      "metadata": {},
      "outputs": [
        {
          "data": {
            "text/plain": [
              "array([13, 12, 13, 12, 14, 12, 12, 14, 14, 14])"
            ]
          },
          "execution_count": 25,
          "metadata": {},
          "output_type": "execute_result"
        }
      ],
      "source": [
        "rolls + 10"
      ]
    },
    {
      "cell_type": "code",
      "execution_count": 26,
      "metadata": {},
      "outputs": [
        {
          "data": {
            "text/plain": [
              "array([ True,  True,  True,  True, False,  True,  True, False, False,\n",
              "       False])"
            ]
          },
          "execution_count": 26,
          "metadata": {},
          "output_type": "execute_result"
        }
      ],
      "source": [
        "# At which indices are the dice less than or equal to 3?\n",
        "rolls <= 3"
      ]
    },
    {
      "cell_type": "code",
      "execution_count": 27,
      "metadata": {},
      "outputs": [
        {
          "name": "stdout",
          "output_type": "stream",
          "text": [
            "xlist = [[1, 2, 3], [2, 4, 6]]\n",
            "x =\n",
            "[[1 2 3]\n",
            " [2 4 6]]\n"
          ]
        }
      ],
      "source": [
        "xlist = [[1,2,3],[2,4,6],]\n",
        "# Create a 2-dimensional array\n",
        "x = numpy.asarray(xlist)\n",
        "print(\"xlist = {}\\nx =\\n{}\".format(xlist, x))"
      ]
    },
    {
      "cell_type": "code",
      "execution_count": 28,
      "metadata": {},
      "outputs": [
        {
          "data": {
            "text/plain": [
              "np.int64(6)"
            ]
          },
          "execution_count": 28,
          "metadata": {},
          "output_type": "execute_result"
        }
      ],
      "source": [
        "# Get the last element of the second row of our numpy array\n",
        "x[1,-1]"
      ]
    },
    {
      "cell_type": "code",
      "execution_count": 29,
      "metadata": {},
      "outputs": [
        {
          "ename": "TypeError",
          "evalue": "list indices must be integers or slices, not tuple",
          "output_type": "error",
          "traceback": [
            "\u001b[0;31m---------------------------------------------------------------------------\u001b[0m",
            "\u001b[0;31mTypeError\u001b[0m                                 Traceback (most recent call last)",
            "Cell \u001b[0;32mIn[29], line 2\u001b[0m\n\u001b[1;32m      1\u001b[0m \u001b[38;5;66;03m# Get the last element of the second sublist of our nested list?\u001b[39;00m\n\u001b[0;32m----> 2\u001b[0m \u001b[43mxlist\u001b[49m\u001b[43m[\u001b[49m\u001b[38;5;241;43m1\u001b[39;49m\u001b[43m,\u001b[49m\u001b[38;5;241;43m-\u001b[39;49m\u001b[38;5;241;43m1\u001b[39;49m\u001b[43m]\u001b[49m\n",
            "\u001b[0;31mTypeError\u001b[0m: list indices must be integers or slices, not tuple"
          ]
        }
      ],
      "source": [
        "# Get the last element of the second sublist of our nested list?\n",
        "xlist[1,-1]"
      ]
    }
  ],
  "metadata": {
    "colab": {
      "include_colab_link": true,
      "provenance": []
    },
    "kernelspec": {
      "display_name": "Python 3.10.7 64-bit",
      "language": "python",
      "name": "python3"
    },
    "language_info": {
      "codemirror_mode": {
        "name": "ipython",
        "version": 3
      },
      "file_extension": ".py",
      "mimetype": "text/x-python",
      "name": "python",
      "nbconvert_exporter": "python",
      "pygments_lexer": "ipython3",
      "version": "3.12.1"
    },
    "orig_nbformat": 4,
    "vscode": {
      "interpreter": {
        "hash": "eb4a0ac80907d7f44e1a5e88d3d3381b33e3dbedd3a24d113e876f30a0c46bee"
      }
    }
  },
  "nbformat": 4,
  "nbformat_minor": 0
}
